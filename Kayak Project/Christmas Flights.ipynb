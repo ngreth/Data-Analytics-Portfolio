{
 "cells": [
  {
   "cell_type": "code",
   "execution_count": 1,
   "id": "1035f993",
   "metadata": {},
   "outputs": [],
   "source": [
    "# Import relevant libraries\n",
    "\n",
    "from bs4 import BeautifulSoup as bs\n",
    "import requests\n",
    "import smtplib\n",
    "import time\n",
    "import datetime\n",
    "\n",
    "import pandas as pd\n",
    "\n",
    "from selenium import webdriver\n",
    "from selenium.webdriver.chrome.service import Service\n",
    "from webdriver_manager.chrome import ChromeDriverManager\n",
    "from selenium.webdriver.common.by import By\n",
    "from selenium.webdriver.common.keys import Keys\n",
    "import time\n",
    "from selenium.webdriver.common.by import By\n",
    "from selenium.webdriver.support.ui import WebDriverWait\n",
    "from selenium.webdriver.support import expected_conditions as EC\n",
    "s = Service(ChromeDriverManager().install())"
   ]
  },
  {
   "cell_type": "code",
   "execution_count": 55,
   "id": "c35c78ee",
   "metadata": {},
   "outputs": [],
   "source": [
    "driver = webdriver.Chrome(service=s)\n",
    "\n",
    "\n",
    "driver.maximize_window()\n",
    "driver.get(\"https://www.kayak.com/flights/AUS-RNO/2022-12-21/2022-12-30?sort=bestflight_a\")\n",
    "\n",
    "time.sleep (10)\n",
    "\n",
    "testcost = driver.find_elements(By.CLASS_NAME, \"price-text\")\n",
    "testflightdata = driver.find_elements(By.CLASS_NAME, \"top\")\n",
    "testflightdata2 = driver.find_elements(By.CLASS_NAME, \"bottom\")\n",
    "\n",
    "dataff = []\n",
    "totime =[]\n",
    "fromtime = []\n",
    "tostop = []\n",
    "fromstop = []\n",
    "\n",
    "costclean = []\n",
    "for values in testcost:\n",
    "    costclean.append(values.text)\n",
    "costclean = [i for i in costclean if i]\n",
    "#del costclean[1:6]    \n",
    "\n",
    "for values in testflightdata:\n",
    "    dataff.append(values.text)\n",
    "totime = dataff[3:127:8]    \n",
    "fromtime = dataff[7:127:8]\n",
    "tostop = dataff[2:127:8]\n",
    "fromstop = dataff[6:127:8]\n",
    "\n",
    "airportdest = []\n",
    "totimeclean = []\n",
    "for values in totime:\n",
    "    hrs = int(values[0:1])*60\n",
    "    minu = int(values[3:5])\n",
    "    totimeclean.append(hrs + minu)\n",
    "    airportdest = values\n",
    "\n",
    "fromtimeclean = []\n",
    "for values in fromtime:\n",
    "    hrs = int(values[0:1])*60\n",
    "    minu = int(values[3:5])\n",
    "    fromtimeclean.append(hrs + minu)\n",
    "    \n",
    "tostopclean = []\n",
    "for values in tostop:\n",
    "    if values == \"nonstop\":\n",
    "        tostopclean.append(0)\n",
    "    else:\n",
    "        tostopclean.append(values[0])\n",
    "#del tostopclean[1]\n",
    "        \n",
    "fromstopclean = []\n",
    "for values in fromstop:\n",
    "    if values == \"nonstop\":\n",
    "        fromstopclean.append(0)\n",
    "    else:\n",
    "        fromstopclean.append(values[0])\n",
    "#del fromstopclean[1]\n",
    "\n",
    "flightdatatest = []\n",
    "for values in testflightdata2:\n",
    "    flightdatatest.append(values.text)\n",
    "toairline = flightdatatest[0:95:6]\n",
    "fromairline = flightdatatest[3:95:6]\n",
    "#del toairline[1]\n",
    "#del fromairline[1]\n",
    "\n",
    "\n",
    "driver.quit()"
   ]
  },
  {
   "cell_type": "code",
   "execution_count": 56,
   "id": "651121d2",
   "metadata": {},
   "outputs": [
    {
     "name": "stdout",
     "output_type": "stream",
     "text": [
      "16 16 15 16 16 16 16\n"
     ]
    }
   ],
   "source": [
    "print(len(costclean),len(totimeclean),len(fromtimeclean),len(tostopclean),len(fromstopclean),len(toairline),len(fromairline))"
   ]
  },
  {
   "cell_type": "code",
   "execution_count": 64,
   "id": "69d4cfb6",
   "metadata": {},
   "outputs": [],
   "source": [
    "costclean = costclean[0:15]\n",
    "totimeclean = totimeclean[0:15]\n",
    "tostopclean = tostopclean[0:15]\n",
    "fromstopclean = fromstopclean[0:15]\n",
    "toairline = toairline[0:15]\n",
    "fromairline = fromairline[0:15]"
   ]
  },
  {
   "cell_type": "code",
   "execution_count": 65,
   "id": "34fbc62c",
   "metadata": {},
   "outputs": [
    {
     "data": {
      "text/plain": [
       "['$337',\n",
       " '$333',\n",
       " '$761',\n",
       " '$337',\n",
       " '$589',\n",
       " '$786',\n",
       " '$755',\n",
       " '$770',\n",
       " '$770',\n",
       " '$755',\n",
       " '$589',\n",
       " '$764',\n",
       " '$764',\n",
       " '$829',\n",
       " '$829']"
      ]
     },
     "execution_count": 65,
     "metadata": {},
     "output_type": "execute_result"
    }
   ],
   "source": [
    "costclean"
   ]
  },
  {
   "cell_type": "code",
   "execution_count": 66,
   "id": "6a047400",
   "metadata": {},
   "outputs": [
    {
     "name": "stdout",
     "output_type": "stream",
     "text": [
      "    cost  Duration AUS-RNO  Duration RNO-AUS Stops AUS-RNO Stops RNO-AUS  \\\n",
      "0   $337               330               281             1             1   \n",
      "1   $333               330               281             1             1   \n",
      "2   $761               227               207             0             0   \n",
      "3   $337               484               281             1             1   \n",
      "4   $589               330               207             1             0   \n",
      "5   $786               227               207             0             0   \n",
      "6   $755               227               269             0             1   \n",
      "7   $770               303               207             1             0   \n",
      "8   $770               303               207             1             0   \n",
      "9   $755               227               361             0             1   \n",
      "10  $589               484               207             1             0   \n",
      "11  $764               303               269             1             1   \n",
      "12  $764               303               269             1             1   \n",
      "13  $829               227               328             0             1   \n",
      "14  $829               227               330             0             1   \n",
      "\n",
      "      Airline AUS-RNO    Airline RNO-AUS  \n",
      "0     Spirit Airlines    Spirit Airlines  \n",
      "1     Spirit Airlines    Spirit Airlines  \n",
      "2   American Airlines  American Airlines  \n",
      "3     Spirit Airlines    Spirit Airlines  \n",
      "4     Spirit Airlines    Alaska Airlines  \n",
      "5     Alaska Airlines    Alaska Airlines  \n",
      "6   American Airlines  American Airlines  \n",
      "7   American Airlines  American Airlines  \n",
      "8   American Airlines  American Airlines  \n",
      "9   American Airlines  American Airlines  \n",
      "10    Spirit Airlines    Alaska Airlines  \n",
      "11  American Airlines  American Airlines  \n",
      "12  American Airlines  American Airlines  \n",
      "13  American Airlines  American Airlines  \n",
      "14  American Airlines  American Airlines  \n"
     ]
    }
   ],
   "source": [
    "#cols = ['Cost','Duration AUS-RNO','Duration RNO-AUS','Stops AUS-RNO','Stops RNO - AUS','toairline','fromairline']      \n",
    "d = {'cost': costclean,\n",
    "     'Duration AUS-RNO': totimeclean,\n",
    "     'Duration RNO-AUS': fromtimeclean,\n",
    "     'Stops AUS-RNO': tostopclean,\n",
    "     'Stops RNO-AUS': fromstopclean,\n",
    "     'Airline AUS-RNO': toairline,\n",
    "     'Airline RNO-AUS': fromairline\n",
    "    }\n",
    "XMAS = pd.DataFrame(d)\n",
    "print(XMAS)"
   ]
  },
  {
   "cell_type": "code",
   "execution_count": 76,
   "id": "3fe87144",
   "metadata": {},
   "outputs": [
    {
     "data": {
      "text/html": [
       "<div>\n",
       "<style scoped>\n",
       "    .dataframe tbody tr th:only-of-type {\n",
       "        vertical-align: middle;\n",
       "    }\n",
       "\n",
       "    .dataframe tbody tr th {\n",
       "        vertical-align: top;\n",
       "    }\n",
       "\n",
       "    .dataframe thead th {\n",
       "        text-align: right;\n",
       "    }\n",
       "</style>\n",
       "<table border=\"1\" class=\"dataframe\">\n",
       "  <thead>\n",
       "    <tr style=\"text-align: right;\">\n",
       "      <th></th>\n",
       "      <th>cost</th>\n",
       "      <th>Duration AUS-RNO</th>\n",
       "      <th>Duration RNO-AUS</th>\n",
       "      <th>Stops AUS-RNO</th>\n",
       "      <th>Stops RNO-AUS</th>\n",
       "      <th>Airline AUS-RNO</th>\n",
       "      <th>Airline RNO-AUS</th>\n",
       "    </tr>\n",
       "  </thead>\n",
       "  <tbody>\n",
       "    <tr>\n",
       "      <th>2</th>\n",
       "      <td>$761</td>\n",
       "      <td>227</td>\n",
       "      <td>207</td>\n",
       "      <td>0</td>\n",
       "      <td>0</td>\n",
       "      <td>American Airlines</td>\n",
       "      <td>American Airlines</td>\n",
       "    </tr>\n",
       "    <tr>\n",
       "      <th>5</th>\n",
       "      <td>$786</td>\n",
       "      <td>227</td>\n",
       "      <td>207</td>\n",
       "      <td>0</td>\n",
       "      <td>0</td>\n",
       "      <td>Alaska Airlines</td>\n",
       "      <td>Alaska Airlines</td>\n",
       "    </tr>\n",
       "  </tbody>\n",
       "</table>\n",
       "</div>"
      ],
      "text/plain": [
       "   cost  Duration AUS-RNO  Duration RNO-AUS Stops AUS-RNO Stops RNO-AUS  \\\n",
       "2  $761               227               207             0             0   \n",
       "5  $786               227               207             0             0   \n",
       "\n",
       "     Airline AUS-RNO    Airline RNO-AUS  \n",
       "2  American Airlines  American Airlines  \n",
       "5    Alaska Airlines    Alaska Airlines  "
      ]
     },
     "execution_count": 76,
     "metadata": {},
     "output_type": "execute_result"
    }
   ],
   "source": [
    "zmas = XMAS[(XMAS['Stops AUS-RNO']==0) & (XMAS['Stops RNO-AUS']==0)]\n",
    "zmas\n"
   ]
  },
  {
   "cell_type": "code",
   "execution_count": null,
   "id": "0d8b75c6",
   "metadata": {},
   "outputs": [],
   "source": []
  }
 ],
 "metadata": {
  "kernelspec": {
   "display_name": "Python 3 (ipykernel)",
   "language": "python",
   "name": "python3"
  },
  "language_info": {
   "codemirror_mode": {
    "name": "ipython",
    "version": 3
   },
   "file_extension": ".py",
   "mimetype": "text/x-python",
   "name": "python",
   "nbconvert_exporter": "python",
   "pygments_lexer": "ipython3",
   "version": "3.9.12"
  }
 },
 "nbformat": 4,
 "nbformat_minor": 5
}
